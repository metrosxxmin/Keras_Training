{
 "cells": [
  {
   "cell_type": "markdown",
   "metadata": {},
   "source": [
    "### Early-Stopping Applied to the Overfitting Model  \n",
    "\n",
    "_Example_\n",
    "```python\n",
    "early_stopping = EarlyStopping()\n",
    "model.fit(X_train, Y_train, nb_epoch=1000, callbacks=[early_stopping])\n",
    "```  \n",
    "\n",
    "The following factors can be set in the __EarlyStopping__ callback function:\n",
    "```python\n",
    "keras.callbacks.EarlyStopping(monitor='val_loss', min_delta=0, patience=0, verbose=0, mode='auto')\n",
    "```  \n",
    "- _monitor_ : What you want to observe  \n",
    "- _min_delta_ : If the amount of change is less than _min_delta_ , it is judged there is no improvement.  \n",
    "- _patience_ : If specified as 10, the learning will end if the epochs with no improvement continues for the 10th time.  \n",
    "- _verbose_ : How detailed the information will be displayed. (0, 1, 2)  \n",
    "- _mode_ : To specify criteria to determine that there is no improvement on observation items.  \n",
    " - _auto_ : Automatically specify according to the name you observe.  \n",
    " - _min_ : To quit when observation stops decreasing  \n",
    " - _max_ : To quit when observation stops increasing  \n",
    " "
   ]
  },
  {
   "cell_type": "code",
   "execution_count": null,
   "metadata": {},
   "outputs": [],
   "source": []
  }
 ],
 "metadata": {
  "kernelspec": {
   "display_name": "Python 3",
   "language": "python",
   "name": "python3"
  },
  "language_info": {
   "codemirror_mode": {
    "name": "ipython",
    "version": 3
   },
   "file_extension": ".py",
   "mimetype": "text/x-python",
   "name": "python",
   "nbconvert_exporter": "python",
   "pygments_lexer": "ipython3",
   "version": "3.7.5"
  }
 },
 "nbformat": 4,
 "nbformat_minor": 4
}
